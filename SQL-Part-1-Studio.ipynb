{
 "cells": [
  {
   "cell_type": "markdown",
   "metadata": {
    "azdata_cell_guid": "b9034d8a-b631-48bf-a895-1012a6ffa784"
   },
   "source": [
    "# SQL Part 1 Studio\n",
    "\n",
    "### Let's practice your SQL quering skills!  For each question, work along in the notebook adding your query and answering the questions. \n",
    "\n",
    "### **DataSet**\n",
    "\n",
    "### <span style=\"font-size: 14px; font-family: -apple-system, BlinkMacSystemFont, sans-serif;\">We will be using the Goodbooks-10k dataset from the exercises in the prep work.&nbsp; Feel free to reference your notebook.</span>\n",
    "\n",
    "- The dataset can be found here: [goodbooks-10k](https://www.kaggle.com/zygmunt/goodbooks-10k)\n",
    "- You can access the **BooksDB** in the Launchcode server.\n",
    "\n",
    "### **Business Issue**\n",
    "\n",
    "You work for a small independant book store and you want to increase sales by running various promotions.  Start by becoming more familar with the BooksDB."
   ]
  },
  {
   "cell_type": "markdown",
   "metadata": {
    "azdata_cell_guid": "6e55eb1c-4a14-4076-90d2-95ed17a6309f",
    "tags": [
     "hide_input"
    ]
   },
   "source": [
    "## Part 1. BooksDB Questions\n",
    "\n",
    "<span style=\"color: rgba(0, 0, 0, 0.87); font-family: -apple-system, system-ui, &quot;Segoe UI&quot;, Helvetica, Arial, sans-serif, &quot;Apple Color Emoji&quot;, &quot;Segoe UI Emoji&quot;, &quot;Segoe UI Symbol&quot;; background-color: rgb(255, 255, 255);\">Question 1:&nbsp; Write a query of the books table, returning the TOP 100 results and&nbsp; includes, book_id, authors, title, average_rating.&nbsp; Use an alias for at least one column and in descending order of rating.&nbsp; What is the number one book?</span>"
   ]
  },
  {
   "cell_type": "code",
   "execution_count": 1,
   "metadata": {
    "azdata_cell_guid": "470b0ca4-9a32-4b46-a42e-bbb645101769",
    "language": "sql",
    "tags": []
   },
   "outputs": [
    {
     "data": {
      "text/html": [
       "(100 rows affected)"
      ]
     },
     "metadata": {},
     "output_type": "display_data"
    },
    {
     "data": {
      "text/html": [
       "Total execution time: 00:00:00.109"
      ]
     },
     "metadata": {},
     "output_type": "display_data"
    },
    {
     "data": {
      "application/vnd.dataresource+json": {
       "data": [
        {
         "0": "24812",
         "1": "Bill Watterson",
         "2": "The Complete Calvin and Hobbes",
         "3": "4.82"
        },
        {
         "0": "17332218",
         "1": "Brandon Sanderson",
         "2": "Words of Radiance (The Stormlight Archive, #2)",
         "3": "4.77"
        },
        {
         "0": "8",
         "1": "J.K. Rowling, Mary GrandPré",
         "2": "Harry Potter Boxed Set, Books 1-5 (Harry Potter, #1-5)",
         "3": "4.77"
        },
        {
         "0": "5031805",
         "1": "Anonymous, Lane T. Dennis, Wayne A. Grudem",
         "2": "ESV Study Bible",
         "3": "4.76"
        },
        {
         "0": "95602",
         "1": "Francine Rivers",
         "2": "Mark of the Lion Trilogy",
         "3": "4.76"
        },
        {
         "0": "24814",
         "1": "Bill Watterson",
         "2": "It's a Magical World: A Calvin and Hobbes Collection",
         "3": "4.75"
        },
        {
         "0": "862041",
         "1": "J.K. Rowling",
         "2": "Harry Potter Boxset (Harry Potter, #1-7)",
         "3": "4.74"
        },
        {
         "0": "70489",
         "1": "Bill Watterson",
         "2": "There's Treasure Everywhere: A Calvin and Hobbes Collection",
         "3": "4.74"
        },
        {
         "0": "10",
         "1": "J.K. Rowling",
         "2": "Harry Potter Collection (Harry Potter, #1-6)",
         "3": "4.73"
        },
        {
         "0": "59715",
         "1": "Bill Watterson",
         "2": "The Authoritative Calvin and Hobbes: A Calvin and Hobbes Treasury",
         "3": "4.73"
        },
        {
         "0": "24815",
         "1": "Bill Watterson",
         "2": "The Indispensable Calvin and Hobbes",
         "3": "4.73"
        },
        {
         "0": "17927395",
         "1": "Sarah J. Maas",
         "2": "A Court of Mist and Fury (A Court of Thorns and Roses, #2)",
         "3": "4.72"
        },
        {
         "0": "70487",
         "1": "Bill Watterson",
         "2": "Attack of the Deranged Mutant Killer Monster Snow Goons",
         "3": "4.72"
        },
        {
         "0": "24816",
         "1": "Bill Watterson",
         "2": "Homicidal Psycho Jungle Cat: A Calvin and Hobbes Collection",
         "3": "4.71"
        },
        {
         "0": "121792",
         "1": "Bill Watterson",
         "2": "The Revenge of the Baby-Sat",
         "3": "4.71"
        },
        {
         "0": "2350129",
         "1": "The Church of Jesus Christ of Latter-day Saints",
         "2": "Preach My Gospel: A Guide To Missionary Service",
         "3": "4.71"
        },
        {
         "0": "24818",
         "1": "Bill Watterson",
         "2": "The Days Are Just Packed: A Calvin and Hobbes Collection",
         "3": "4.68"
        },
        {
         "0": "265205",
         "1": "Anonymous, Ronald A. Beers, Ronald A. Beers",
         "2": "Life Application Study Bible: NIV",
         "3": "4.67"
        },
        {
         "0": "9329354",
         "1": "Brandon Sanderson",
         "2": "The Way of Kings, Part 1 (The Stormlight Archive #1.1)",
         "3": "4.67"
        },
        {
         "0": "99298",
         "1": "J.K. Rowling, Mary GrandPré",
         "2": "The Harry Potter Collection 1-4 (Harry Potter, #1-4)",
         "3": "4.66"
        },
        {
         "0": "5883777",
         "1": "Anonymous",
         "2": "The Holy Bible: English Standard Version",
         "3": "4.66"
        },
        {
         "0": "24494",
         "1": "Bill Watterson",
         "2": "The Calvin and Hobbes Lazy Sunday Book",
         "3": "4.66"
        },
        {
         "0": "43070",
         "1": "Bill Watterson",
         "2": "The Essential Calvin and Hobbes: A Calvin and Hobbes Treasury",
         "3": "4.65"
        },
        {
         "0": "18337259",
         "1": "Daniel Abraham, George R.R. Martin, Tommy Patterson",
         "2": "A Game of Thrones: Comic Book, Issue 1",
         "3": "4.65"
        },
        {
         "0": "23753",
         "1": "Neil Gaiman, Mike Dringenberg, Chris Bachalo, Michael Zulli, Kelly Jones, Charles Vess, Colleen Doran, Malcolm Jones III, Steve Parkhouse, Daniel Vozzo, Lee Loughridge, Steve Oliff, Todd Klein, Dave McKean, Sam Kieth",
         "2": "The Absolute Sandman, Volume One",
         "3": "4.65"
        },
        {
         "0": "7235533",
         "1": "Brandon Sanderson",
         "2": "The Way of Kings (The Stormlight Archive, #1)",
         "3": "4.64"
        },
        {
         "0": "24813",
         "1": "Bill Watterson",
         "2": "The Calvin and Hobbes Tenth Anniversary Book",
         "3": "4.63"
        },
        {
         "0": "9814682",
         "1": "George R.R. Martin",
         "2": "A Song of Ice and Fire (A Song of Ice and Fire, #1-4)",
         "3": "4.63"
        },
        {
         "0": "12177850",
         "1": "George R.R. Martin",
         "2": "A Song of Ice and Fire (A Song of Ice and Fire, #1-5)",
         "3": "4.63"
        },
        {
         "0": "481749",
         "1": "James E. Talmage",
         "2": "Jesus the Christ",
         "3": "4.63"
        },
        {
         "0": "46292",
         "1": "Hafez",
         "2": "The Divan",
         "3": "4.63"
        },
        {
         "0": "6801614",
         "1": "Eiichirō Oda",
         "2": "One Piece, Volume 38: Rocketman!! (One Piece, #38)",
         "3": "4.63"
        },
        {
         "0": "22299763",
         "1": "Leigh Bardugo",
         "2": "Crooked Kingdom (Six of Crows, #2)",
         "3": "4.62"
        },
        {
         "0": "32075671",
         "1": "Angie Thomas",
         "2": "The Hate U Give",
         "3": "4.62"
        },
        {
         "0": "136251",
         "1": "J.K. Rowling, Mary GrandPré",
         "2": "Harry Potter and the Deathly Hallows (Harry Potter, #7)",
         "3": "4.61"
        },
        {
         "0": "77727",
         "1": "Bill Watterson, G.B. Trudeau",
         "2": "Calvin and Hobbes",
         "3": "4.61"
        },
        {
         "0": "280111",
         "1": "Anonymous",
         "2": "Holy Bible: New International Version",
         "3": "4.61"
        },
        {
         "0": "2223324",
         "1": "John   Williams",
         "2": "Harry Potter and the Chamber of Secrets: Sheet Music for Flute with C.D",
         "3": "4.61"
        },
        {
         "0": "6339989",
         "1": "Richelle Mead",
         "2": "Vampire Academy Collection (Vampire Academy, #1-3)",
         "3": "4.61"
        },
        {
         "0": "596259",
         "1": "Gordon B. Hinckley",
         "2": "Standing for Something: 10 Neglected Virtues That Will Heal Our Hearts and Homes",
         "3": "4.61"
        },
        {
         "0": "47697",
         "1": "Alisa Kwitney, Neil Gaiman",
         "2": "The Sandman: King of Dreams",
         "3": "4.61"
        },
        {
         "0": "18006496",
         "1": "Sarah J. Maas",
         "2": "Queen of Shadows (Throne of Glass, #4)",
         "3": "4.6"
        },
        {
         "0": "95617",
         "1": "Francine Rivers, Richard Ferrone",
         "2": "A Voice in the Wind (Mark of the Lion, #1)",
         "3": "4.6"
        },
        {
         "0": "46601",
         "1": "Francine Rivers",
         "2": "An Echo in the Darkness (Mark of the Lion, #2)",
         "3": "4.6"
        },
        {
         "0": "7025086",
         "1": "Christopher Yost, Pasqual Ferry, Orson Scott Card",
         "2": "Ender's Game, Volume 2: Command School",
         "3": "4.6"
        },
        {
         "0": "18335634",
         "1": "Cassandra Clare",
         "2": "Clockwork Princess (The Infernal Devices, #3)",
         "3": "4.59"
        },
        {
         "0": "30",
         "1": "J.R.R. Tolkien",
         "2": "J.R.R. Tolkien 4-Book Boxed Set: The Hobbit and The Lord of the Rings",
         "3": "4.59"
        },
        {
         "0": "2299110",
         "1": "Sherrilyn Kenyon",
         "2": "Acheron (Dark-Hunter #14)",
         "3": "4.59"
        },
        {
         "0": "119",
         "1": "Gary Russell",
         "2": "The Lord of the Rings: The Art of The Fellowship of the Ring",
         "3": "4.59"
        },
        {
         "0": "71252",
         "1": "Neil Gaiman, Marc Hempel, Richard Case, D'Israeli, Teddy Kristiansen, Glyn Dillon, Charles Vess, Dean Ormston, Kevin Nowlan, Todd Klein, Frank McConnell",
         "2": "The Kindly Ones (The Sandman #9)",
         "3": "4.59"
        },
        {
         "0": "349254",
         "1": "Jude Fisher",
         "2": "The Lord of the Rings: The Return of the King: Visual Companion",
         "3": "4.59"
        },
        {
         "0": "9832370",
         "1": "BookRags",
         "2": "BookRags Summary:  A Storm of Swords",
         "3": "4.59"
        },
        {
         "0": "11106458",
         "1": "Cassandra Clare",
         "2": "The Mortal Instruments (The Mortal Instruments #1-4)",
         "3": "4.59"
        },
        {
         "0": "14367051",
         "1": "Cassandra Clare",
         "2": "City of Bones / City of Ashes / City of Glass / City of Fallen Angels / City of Lost Souls (The Mortal Instruments, #1-5)",
         "3": "4.59"
        },
        {
         "0": "28260587",
         "1": "Sarah J. Maas",
         "2": "Empire of Storms (Throne of Glass, #5)",
         "3": "4.58"
        },
        {
         "0": "3165162",
         "1": "Rick Riordan",
         "2": "Percy Jackson and the Olympians (Percy Jackson and the Olympians, #1-3)",
         "3": "4.58"
        },
        {
         "0": "20342617",
         "1": "Bryan Stevenson",
         "2": "Just Mercy: A Story of Justice and Redemption",
         "3": "4.58"
        },
        {
         "0": "17961",
         "1": "Jorge Luis Borges, Andrew Hurley",
         "2": "Collected Fictions",
         "3": "4.58"
        },
        {
         "0": "4808763",
         "1": "Isaac Asimov, Bob E. Flick, Jim Gallant",
         "2": "The Last Question",
         "3": "4.58"
        },
        {
         "0": "15767586",
         "1": "Sherrilyn Kenyon",
         "2": "Styxx (Dark-Hunter, #22)",
         "3": "4.58"
        },
        {
         "0": "892295",
         "1": "Arthur Conan Doyle, William S. Baring-Gould",
         "2": "The Annotated Sherlock Holmes: The Four Novels and the Fifty-Six Short Stories Complete (2 Volume Set)",
         "3": "4.58"
        },
        {
         "0": "1215032",
         "1": "Patrick Rothfuss",
         "2": "The Wise Man's Fear (The Kingkiller Chronicle, #2)",
         "3": "4.57"
        },
        {
         "0": "6485421",
         "1": "Cassandra Clare",
         "2": "The Mortal Instruments Boxed Set: City of Bones; City of Ashes; City of Glass (The Mortal Instruments, #1-3)",
         "3": "4.57"
        },
        {
         "0": "17131869",
         "1": "Brian K. Vaughan, Fiona Staples",
         "2": "Saga, Vol. 2 (Saga, #2)",
         "3": "4.57"
        },
        {
         "0": "8718952",
         "1": "Richelle Mead",
         "2": "Vampire Academy Box Set (Vampire Academy, #1-4)",
         "3": "4.57"
        },
        {
         "0": "4634266",
         "1": "Masashi Kishimoto",
         "2": "NARUTO -ナルト- 巻ノ四十三",
         "3": "4.57"
        },
        {
         "0": "6443349",
         "1": "Rick Riordan, Tk",
         "2": "Percy Jackson and the Olympians Boxed Set (Percy Jackson and the Olympians, #1-5)",
         "3": "4.57"
        },
        {
         "0": "545425",
         "1": "Safiy al-Rahman al-Mubarakfuri",
         "2": "الرحيق المختوم",
         "3": "4.57"
        },
        {
         "0": "17333174",
         "1": "Ilona Andrews",
         "2": "Magic Binds (Kate Daniels, #9)",
         "3": "4.57"
        },
        {
         "0": "147915",
         "1": "George R.R. Martin",
         "2": "A Storm of Swords: Blood and Gold (A Song of Ice and Fire, #3: Part 2 of 2)",
         "3": "4.56"
        },
        {
         "0": "19358975",
         "1": "Brian K. Vaughan, Fiona Staples",
         "2": "Saga, Vol. 3 (Saga, #3)",
         "3": "4.56"
        },
        {
         "0": "10785687",
         "1": "Bob McCabe",
         "2": "Harry Potter Page to Screen: The Complete Filmmaking Journey",
         "3": "4.56"
        },
        {
         "0": "17880714",
         "1": "K. Bromberg",
         "2": "Crashed (Driven, #3)",
         "3": "4.56"
        },
        {
         "0": "1317181",
         "1": "J.K. Rowling",
         "2": "Harry Potter and the Order of the Phoenix (Harry Potter, #5, Part 1)",
         "3": "4.56"
        },
        {
         "0": "15743078",
         "1": "Veronica Roth",
         "2": "The Divergent Series 2-Book Collection (Divergent, #1-2)",
         "3": "4.56"
        },
        {
         "0": "29236299",
         "1": "Amie Kaufman, Jay Kristoff, Marie Lu",
         "2": "Gemina (The Illuminae Files, #2)",
         "3": "4.56"
        },
        {
         "0": "186074",
         "1": "Patrick Rothfuss",
         "2": "The Name of the Wind (The Kingkiller Chronicle, #1)",
         "3": "4.55"
        },
        {
         "0": "19486421",
         "1": "Jim Butcher",
         "2": "Skin Game (The Dresden Files, #15)",
         "3": "4.55"
        },
        {
         "0": "6604209",
         "1": "Brandon Sanderson",
         "2": "Mistborn Trilogy Boxed Set (Mistborn, #1-3)",
         "3": "4.55"
        },
        {
         "0": "25105",
         "1": "Neil Gaiman, Jill Thompson, Vince Locke, Peter Straub",
         "2": "Brief Lives (The Sandman #7)",
         "3": "4.55"
        },
        {
         "0": "8346300",
         "1": "Andrew Williamson, Andrew Williamson",
         "2": "Harry Potter: A Pop-Up Book: Based on the Film Phenomenon",
         "3": "4.55"
        },
        {
         "0": "14905",
         "1": "Jane Austen",
         "2": "The Complete Novels",
         "3": "4.55"
        },
        {
         "0": "13184992",
         "1": "Kristen Ashley",
         "2": "Rock Chick Regret (Rock Chick, #7)",
         "3": "4.55"
        },
        {
         "0": "71823",
         "1": "Stephen King",
         "2": "The Green Mile, Part 6: Coffey on the Mile",
         "3": "4.55"
        },
        {
         "0": "1",
         "1": "J.K. Rowling, Mary GrandPré",
         "2": "Harry Potter and the Half-Blood Prince (Harry Potter, #6)",
         "3": "4.54"
        },
        {
         "0": "62291",
         "1": "George R.R. Martin",
         "2": "A Storm of Swords (A Song of Ice and Fire, #3)",
         "3": "4.54"
        },
        {
         "0": "21853621",
         "1": "Kristin Hannah",
         "2": "The Nightingale",
         "3": "4.54"
        },
        {
         "0": "12127810",
         "1": "Rick Riordan",
         "2": "The House of Hades (The Heroes of Olympus, #4)",
         "3": "4.54"
        },
        {
         "0": "6585201",
         "1": "Jim Butcher",
         "2": "Changes (The Dresden Files, #12)",
         "3": "4.54"
        },
        {
         "0": "381421",
         "1": "Sarah  Young",
         "2": "Jesus Calling: Enjoying Peace in His Presence",
         "3": "4.54"
        },
        {
         "0": "25101",
         "1": "Neil Gaiman, Matt Wagner, George Pratt, Dick Giordano, Kelley Jones, P. Craig Russell, Mike Dringenberg, Malcolm Jones III, Todd Klein, Harlan Ellison",
         "2": "Season of Mists (The Sandman #4)",
         "3": "4.54"
        },
        {
         "0": "89959",
         "1": "Founding Fathers",
         "2": "The Constitution of the United States of America",
         "3": "4.54"
        },
        {
         "0": "23766634",
         "1": "Sarah J. Maas",
         "2": "A Court of Wings and Ruin (A Court of Thorns and Roses, #3)",
         "3": "4.54"
        },
        {
         "0": "20706320",
         "1": "Chris Colfer, Brandon Dorman",
         "2": "A Grimm Warning (The Land of Stories, #3)",
         "3": "4.54"
        },
        {
         "0": "8163161",
         "1": "Bisco Hatori",
         "2": "Ouran High School Host Club, Vol. 15 (Ouran High School Host Club, #15)",
         "3": "4.54"
        },
        {
         "0": "5",
         "1": "J.K. Rowling, Mary GrandPré, Rufus Beck",
         "2": "Harry Potter and the Prisoner of Azkaban (Harry Potter, #3)",
         "3": "4.53"
        },
        {
         "0": "6",
         "1": "J.K. Rowling, Mary GrandPré",
         "2": "Harry Potter and the Goblet of Fire (Harry Potter, #4)",
         "3": "4.53"
        },
        {
         "0": "20613470",
         "1": "Sarah J. Maas",
         "2": "Heir of Fire (Throne of Glass, #3)",
         "3": "4.53"
        },
        {
         "0": "15195",
         "1": "Art Spiegelman",
         "2": "The Complete Maus (Maus, #1-2)",
         "3": "4.53"
        },
        {
         "0": "25104",
         "1": "Neil Gaiman, Michael Zulli, Jon J. Muth, Charles Vess, Mikal Gilmore",
         "2": "The Wake (The Sandman #10)",
         "3": "4.53"
        }
       ],
       "schema": {
        "fields": [
         {
          "name": "book_id"
         },
         {
          "name": "authors"
         },
         {
          "name": "title"
         },
         {
          "name": "rating"
         }
        ]
       }
      },
      "text/html": [
       "<table><tr><th>book_id</th><th>authors</th><th>title</th><th>rating</th></tr><tr><td>24812</td><td>Bill Watterson</td><td>The Complete Calvin and Hobbes</td><td>4.82</td></tr><tr><td>17332218</td><td>Brandon Sanderson</td><td>Words of Radiance (The Stormlight Archive, #2)</td><td>4.77</td></tr><tr><td>8</td><td>J.K. Rowling, Mary GrandPré</td><td>Harry Potter Boxed Set, Books 1-5 (Harry Potter, #1-5)</td><td>4.77</td></tr><tr><td>5031805</td><td>Anonymous, Lane T. Dennis, Wayne A. Grudem</td><td>ESV Study Bible</td><td>4.76</td></tr><tr><td>95602</td><td>Francine Rivers</td><td>Mark of the Lion Trilogy</td><td>4.76</td></tr><tr><td>24814</td><td>Bill Watterson</td><td>It's a Magical World: A Calvin and Hobbes Collection</td><td>4.75</td></tr><tr><td>862041</td><td>J.K. Rowling</td><td>Harry Potter Boxset (Harry Potter, #1-7)</td><td>4.74</td></tr><tr><td>70489</td><td>Bill Watterson</td><td>There's Treasure Everywhere: A Calvin and Hobbes Collection</td><td>4.74</td></tr><tr><td>10</td><td>J.K. Rowling</td><td>Harry Potter Collection (Harry Potter, #1-6)</td><td>4.73</td></tr><tr><td>59715</td><td>Bill Watterson</td><td>The Authoritative Calvin and Hobbes: A Calvin and Hobbes Treasury</td><td>4.73</td></tr><tr><td>24815</td><td>Bill Watterson</td><td>The Indispensable Calvin and Hobbes</td><td>4.73</td></tr><tr><td>17927395</td><td>Sarah J. Maas</td><td>A Court of Mist and Fury (A Court of Thorns and Roses, #2)</td><td>4.72</td></tr><tr><td>70487</td><td>Bill Watterson</td><td>Attack of the Deranged Mutant Killer Monster Snow Goons</td><td>4.72</td></tr><tr><td>24816</td><td>Bill Watterson</td><td>Homicidal Psycho Jungle Cat: A Calvin and Hobbes Collection</td><td>4.71</td></tr><tr><td>121792</td><td>Bill Watterson</td><td>The Revenge of the Baby-Sat</td><td>4.71</td></tr><tr><td>2350129</td><td>The Church of Jesus Christ of Latter-day Saints</td><td>Preach My Gospel: A Guide To Missionary Service</td><td>4.71</td></tr><tr><td>24818</td><td>Bill Watterson</td><td>The Days Are Just Packed: A Calvin and Hobbes Collection</td><td>4.68</td></tr><tr><td>265205</td><td>Anonymous, Ronald A. Beers, Ronald A. Beers</td><td>Life Application Study Bible: NIV</td><td>4.67</td></tr><tr><td>9329354</td><td>Brandon Sanderson</td><td>The Way of Kings, Part 1 (The Stormlight Archive #1.1)</td><td>4.67</td></tr><tr><td>99298</td><td>J.K. Rowling, Mary GrandPré</td><td>The Harry Potter Collection 1-4 (Harry Potter, #1-4)</td><td>4.66</td></tr><tr><td>5883777</td><td>Anonymous</td><td>The Holy Bible: English Standard Version</td><td>4.66</td></tr><tr><td>24494</td><td>Bill Watterson</td><td>The Calvin and Hobbes Lazy Sunday Book</td><td>4.66</td></tr><tr><td>43070</td><td>Bill Watterson</td><td>The Essential Calvin and Hobbes: A Calvin and Hobbes Treasury</td><td>4.65</td></tr><tr><td>18337259</td><td>Daniel Abraham, George R.R. Martin, Tommy Patterson</td><td>A Game of Thrones: Comic Book, Issue 1</td><td>4.65</td></tr><tr><td>23753</td><td>Neil Gaiman, Mike Dringenberg, Chris Bachalo, Michael Zulli, Kelly Jones, Charles Vess, Colleen Doran, Malcolm Jones III, Steve Parkhouse, Daniel Vozzo, Lee Loughridge, Steve Oliff, Todd Klein, Dave McKean, Sam Kieth</td><td>The Absolute Sandman, Volume One</td><td>4.65</td></tr><tr><td>7235533</td><td>Brandon Sanderson</td><td>The Way of Kings (The Stormlight Archive, #1)</td><td>4.64</td></tr><tr><td>24813</td><td>Bill Watterson</td><td>The Calvin and Hobbes Tenth Anniversary Book</td><td>4.63</td></tr><tr><td>9814682</td><td>George R.R. Martin</td><td>A Song of Ice and Fire (A Song of Ice and Fire, #1-4)</td><td>4.63</td></tr><tr><td>12177850</td><td>George R.R. Martin</td><td>A Song of Ice and Fire (A Song of Ice and Fire, #1-5)</td><td>4.63</td></tr><tr><td>481749</td><td>James E. Talmage</td><td>Jesus the Christ</td><td>4.63</td></tr><tr><td>46292</td><td>Hafez</td><td>The Divan</td><td>4.63</td></tr><tr><td>6801614</td><td>Eiichirō Oda</td><td>One Piece, Volume 38: Rocketman!! (One Piece, #38)</td><td>4.63</td></tr><tr><td>22299763</td><td>Leigh Bardugo</td><td>Crooked Kingdom (Six of Crows, #2)</td><td>4.62</td></tr><tr><td>32075671</td><td>Angie Thomas</td><td>The Hate U Give</td><td>4.62</td></tr><tr><td>136251</td><td>J.K. Rowling, Mary GrandPré</td><td>Harry Potter and the Deathly Hallows (Harry Potter, #7)</td><td>4.61</td></tr><tr><td>77727</td><td>Bill Watterson, G.B. Trudeau</td><td>Calvin and Hobbes</td><td>4.61</td></tr><tr><td>280111</td><td>Anonymous</td><td>Holy Bible: New International Version</td><td>4.61</td></tr><tr><td>2223324</td><td>John   Williams</td><td>Harry Potter and the Chamber of Secrets: Sheet Music for Flute with C.D</td><td>4.61</td></tr><tr><td>6339989</td><td>Richelle Mead</td><td>Vampire Academy Collection (Vampire Academy, #1-3)</td><td>4.61</td></tr><tr><td>596259</td><td>Gordon B. Hinckley</td><td>Standing for Something: 10 Neglected Virtues That Will Heal Our Hearts and Homes</td><td>4.61</td></tr><tr><td>47697</td><td>Alisa Kwitney, Neil Gaiman</td><td>The Sandman: King of Dreams</td><td>4.61</td></tr><tr><td>18006496</td><td>Sarah J. Maas</td><td>Queen of Shadows (Throne of Glass, #4)</td><td>4.6</td></tr><tr><td>95617</td><td>Francine Rivers, Richard Ferrone</td><td>A Voice in the Wind (Mark of the Lion, #1)</td><td>4.6</td></tr><tr><td>46601</td><td>Francine Rivers</td><td>An Echo in the Darkness (Mark of the Lion, #2)</td><td>4.6</td></tr><tr><td>7025086</td><td>Christopher Yost, Pasqual Ferry, Orson Scott Card</td><td>Ender's Game, Volume 2: Command School</td><td>4.6</td></tr><tr><td>18335634</td><td>Cassandra Clare</td><td>Clockwork Princess (The Infernal Devices, #3)</td><td>4.59</td></tr><tr><td>30</td><td>J.R.R. Tolkien</td><td>J.R.R. Tolkien 4-Book Boxed Set: The Hobbit and The Lord of the Rings</td><td>4.59</td></tr><tr><td>2299110</td><td>Sherrilyn Kenyon</td><td>Acheron (Dark-Hunter #14)</td><td>4.59</td></tr><tr><td>119</td><td>Gary Russell</td><td>The Lord of the Rings: The Art of The Fellowship of the Ring</td><td>4.59</td></tr><tr><td>71252</td><td>Neil Gaiman, Marc Hempel, Richard Case, D'Israeli, Teddy Kristiansen, Glyn Dillon, Charles Vess, Dean Ormston, Kevin Nowlan, Todd Klein, Frank McConnell</td><td>The Kindly Ones (The Sandman #9)</td><td>4.59</td></tr><tr><td>349254</td><td>Jude Fisher</td><td>The Lord of the Rings: The Return of the King: Visual Companion</td><td>4.59</td></tr><tr><td>9832370</td><td>BookRags</td><td>BookRags Summary:  A Storm of Swords</td><td>4.59</td></tr><tr><td>11106458</td><td>Cassandra Clare</td><td>The Mortal Instruments (The Mortal Instruments #1-4)</td><td>4.59</td></tr><tr><td>14367051</td><td>Cassandra Clare</td><td>City of Bones / City of Ashes / City of Glass / City of Fallen Angels / City of Lost Souls (The Mortal Instruments, #1-5)</td><td>4.59</td></tr><tr><td>28260587</td><td>Sarah J. Maas</td><td>Empire of Storms (Throne of Glass, #5)</td><td>4.58</td></tr><tr><td>3165162</td><td>Rick Riordan</td><td>Percy Jackson and the Olympians (Percy Jackson and the Olympians, #1-3)</td><td>4.58</td></tr><tr><td>20342617</td><td>Bryan Stevenson</td><td>Just Mercy: A Story of Justice and Redemption</td><td>4.58</td></tr><tr><td>17961</td><td>Jorge Luis Borges, Andrew Hurley</td><td>Collected Fictions</td><td>4.58</td></tr><tr><td>4808763</td><td>Isaac Asimov, Bob E. Flick, Jim Gallant</td><td>The Last Question</td><td>4.58</td></tr><tr><td>15767586</td><td>Sherrilyn Kenyon</td><td>Styxx (Dark-Hunter, #22)</td><td>4.58</td></tr><tr><td>892295</td><td>Arthur Conan Doyle, William S. Baring-Gould</td><td>The Annotated Sherlock Holmes: The Four Novels and the Fifty-Six Short Stories Complete (2 Volume Set)</td><td>4.58</td></tr><tr><td>1215032</td><td>Patrick Rothfuss</td><td>The Wise Man's Fear (The Kingkiller Chronicle, #2)</td><td>4.57</td></tr><tr><td>6485421</td><td>Cassandra Clare</td><td>The Mortal Instruments Boxed Set: City of Bones; City of Ashes; City of Glass (The Mortal Instruments, #1-3)</td><td>4.57</td></tr><tr><td>17131869</td><td>Brian K. Vaughan, Fiona Staples</td><td>Saga, Vol. 2 (Saga, #2)</td><td>4.57</td></tr><tr><td>8718952</td><td>Richelle Mead</td><td>Vampire Academy Box Set (Vampire Academy, #1-4)</td><td>4.57</td></tr><tr><td>4634266</td><td>Masashi Kishimoto</td><td>NARUTO -ナルト- 巻ノ四十三</td><td>4.57</td></tr><tr><td>6443349</td><td>Rick Riordan, Tk</td><td>Percy Jackson and the Olympians Boxed Set (Percy Jackson and the Olympians, #1-5)</td><td>4.57</td></tr><tr><td>545425</td><td>Safiy al-Rahman al-Mubarakfuri</td><td>الرحيق المختوم</td><td>4.57</td></tr><tr><td>17333174</td><td>Ilona Andrews</td><td>Magic Binds (Kate Daniels, #9)</td><td>4.57</td></tr><tr><td>147915</td><td>George R.R. Martin</td><td>A Storm of Swords: Blood and Gold (A Song of Ice and Fire, #3: Part 2 of 2)</td><td>4.56</td></tr><tr><td>19358975</td><td>Brian K. Vaughan, Fiona Staples</td><td>Saga, Vol. 3 (Saga, #3)</td><td>4.56</td></tr><tr><td>10785687</td><td>Bob McCabe</td><td>Harry Potter Page to Screen: The Complete Filmmaking Journey</td><td>4.56</td></tr><tr><td>17880714</td><td>K. Bromberg</td><td>Crashed (Driven, #3)</td><td>4.56</td></tr><tr><td>1317181</td><td>J.K. Rowling</td><td>Harry Potter and the Order of the Phoenix (Harry Potter, #5, Part 1)</td><td>4.56</td></tr><tr><td>15743078</td><td>Veronica Roth</td><td>The Divergent Series 2-Book Collection (Divergent, #1-2)</td><td>4.56</td></tr><tr><td>29236299</td><td>Amie Kaufman, Jay Kristoff, Marie Lu</td><td>Gemina (The Illuminae Files, #2)</td><td>4.56</td></tr><tr><td>186074</td><td>Patrick Rothfuss</td><td>The Name of the Wind (The Kingkiller Chronicle, #1)</td><td>4.55</td></tr><tr><td>19486421</td><td>Jim Butcher</td><td>Skin Game (The Dresden Files, #15)</td><td>4.55</td></tr><tr><td>6604209</td><td>Brandon Sanderson</td><td>Mistborn Trilogy Boxed Set (Mistborn, #1-3)</td><td>4.55</td></tr><tr><td>25105</td><td>Neil Gaiman, Jill Thompson, Vince Locke, Peter Straub</td><td>Brief Lives (The Sandman #7)</td><td>4.55</td></tr><tr><td>8346300</td><td>Andrew Williamson, Andrew Williamson</td><td>Harry Potter: A Pop-Up Book: Based on the Film Phenomenon</td><td>4.55</td></tr><tr><td>14905</td><td>Jane Austen</td><td>The Complete Novels</td><td>4.55</td></tr><tr><td>13184992</td><td>Kristen Ashley</td><td>Rock Chick Regret (Rock Chick, #7)</td><td>4.55</td></tr><tr><td>71823</td><td>Stephen King</td><td>The Green Mile, Part 6: Coffey on the Mile</td><td>4.55</td></tr><tr><td>1</td><td>J.K. Rowling, Mary GrandPré</td><td>Harry Potter and the Half-Blood Prince (Harry Potter, #6)</td><td>4.54</td></tr><tr><td>62291</td><td>George R.R. Martin</td><td>A Storm of Swords (A Song of Ice and Fire, #3)</td><td>4.54</td></tr><tr><td>21853621</td><td>Kristin Hannah</td><td>The Nightingale</td><td>4.54</td></tr><tr><td>12127810</td><td>Rick Riordan</td><td>The House of Hades (The Heroes of Olympus, #4)</td><td>4.54</td></tr><tr><td>6585201</td><td>Jim Butcher</td><td>Changes (The Dresden Files, #12)</td><td>4.54</td></tr><tr><td>381421</td><td>Sarah  Young</td><td>Jesus Calling: Enjoying Peace in His Presence</td><td>4.54</td></tr><tr><td>25101</td><td>Neil Gaiman, Matt Wagner, George Pratt, Dick Giordano, Kelley Jones, P. Craig Russell, Mike Dringenberg, Malcolm Jones III, Todd Klein, Harlan Ellison</td><td>Season of Mists (The Sandman #4)</td><td>4.54</td></tr><tr><td>89959</td><td>Founding Fathers</td><td>The Constitution of the United States of America</td><td>4.54</td></tr><tr><td>23766634</td><td>Sarah J. Maas</td><td>A Court of Wings and Ruin (A Court of Thorns and Roses, #3)</td><td>4.54</td></tr><tr><td>20706320</td><td>Chris Colfer, Brandon Dorman</td><td>A Grimm Warning (The Land of Stories, #3)</td><td>4.54</td></tr><tr><td>8163161</td><td>Bisco Hatori</td><td>Ouran High School Host Club, Vol. 15 (Ouran High School Host Club, #15)</td><td>4.54</td></tr><tr><td>5</td><td>J.K. Rowling, Mary GrandPré, Rufus Beck</td><td>Harry Potter and the Prisoner of Azkaban (Harry Potter, #3)</td><td>4.53</td></tr><tr><td>6</td><td>J.K. Rowling, Mary GrandPré</td><td>Harry Potter and the Goblet of Fire (Harry Potter, #4)</td><td>4.53</td></tr><tr><td>20613470</td><td>Sarah J. Maas</td><td>Heir of Fire (Throne of Glass, #3)</td><td>4.53</td></tr><tr><td>15195</td><td>Art Spiegelman</td><td>The Complete Maus (Maus, #1-2)</td><td>4.53</td></tr><tr><td>25104</td><td>Neil Gaiman, Michael Zulli, Jon J. Muth, Charles Vess, Mikal Gilmore</td><td>The Wake (The Sandman #10)</td><td>4.53</td></tr></table>"
      ]
     },
     "execution_count": 1,
     "metadata": {},
     "output_type": "execute_result"
    }
   ],
   "source": [
    "-- return top 100 results\n",
    "SELECT top 100 \n",
    "    book_id, \n",
    "    authors, \n",
    "    title, \n",
    "    average_rating AS 'rating'\n",
    "FROM Books\n",
    "ORDER BY average_rating DESC;"
   ]
  },
  {
   "cell_type": "markdown",
   "metadata": {
    "azdata_cell_guid": "777429b8-8622-489d-9c49-e2acecd7f17e"
   },
   "source": [
    "Question 2: Write a query to find the least popular book."
   ]
  },
  {
   "cell_type": "code",
   "execution_count": 6,
   "metadata": {
    "azdata_cell_guid": "c78a1779-db74-470f-a60a-7c72a43d774b",
    "language": "sql",
    "tags": []
   },
   "outputs": [
    {
     "ename": "",
     "evalue": "Msg 701, Level 17, State 130, Line 1\r\nThere is insufficient system memory in resource pool 'default' to run this query.",
     "output_type": "error",
     "traceback": []
    },
    {
     "data": {
      "text/html": [
       "Total execution time: 00:00:00.144"
      ]
     },
     "metadata": {},
     "output_type": "display_data"
    }
   ],
   "source": [
    "-- return least popular book\n",
    "SELECT top 1\n",
    "    title AS 'Least Popular Book'\n",
    "FROM Books\n",
    "ORDER BY average_rating ASC"
   ]
  },
  {
   "cell_type": "markdown",
   "metadata": {
    "azdata_cell_guid": "a370909d-5d64-49e2-8fec-5220730c8ca7"
   },
   "source": [
    "Question 3: Which tag is the most popular?"
   ]
  },
  {
   "cell_type": "code",
   "execution_count": null,
   "metadata": {
    "azdata_cell_guid": "9e0451dc-c4d3-4775-9eb1-904854f459ff",
    "language": "sql",
    "tags": []
   },
   "outputs": [],
   "source": [
    "-- return most popular tag\n",
    "SELECT top 1 book_id AS 'Most Popular Tag'\n",
    "FROM Books\n",
    "ORDER BY averager_rating ASC;"
   ]
  },
  {
   "cell_type": "markdown",
   "metadata": {
    "azdata_cell_guid": "3cdfa7e6-c5a6-49fb-aa27-afeece881627"
   },
   "source": [
    "Question 4: What is the name of the most popular tag?"
   ]
  },
  {
   "cell_type": "code",
   "execution_count": null,
   "metadata": {
    "azdata_cell_guid": "3cd3a3ec-4ce2-49b6-b714-44179eed00e1",
    "language": "sql"
   },
   "outputs": [],
   "source": [
    "-- return name of most popular tag\n"
   ]
  },
  {
   "cell_type": "markdown",
   "metadata": {
    "azdata_cell_guid": "b3962545-c0c2-47ca-a3c4-299c2c0a4b0c"
   },
   "source": [
    "Question 5: How many books where released in the first decade of 2000?"
   ]
  },
  {
   "cell_type": "code",
   "execution_count": 8,
   "metadata": {
    "azdata_cell_guid": "8dcd65e9-1b3e-4cf8-b726-26729a1225f2",
    "language": "sql",
    "tags": []
   },
   "outputs": [
    {
     "ename": "",
     "evalue": "Msg 701, Level 17, State 130, Line 1\r\nThere is insufficient system memory in resource pool 'default' to run this query.",
     "output_type": "error",
     "traceback": []
    },
    {
     "data": {
      "text/html": [
       "Total execution time: 00:00:00.056"
      ]
     },
     "metadata": {},
     "output_type": "display_data"
    }
   ],
   "source": [
    "-- return number of books published in the first decade of 2000\n",
    "SELECT COUNT (original_publication_year) AS 'First decade of 2000'\n",
    "FROM Books\n",
    "WHERE original_publication_year BETWEEN <= 2000 and > 2010"
   ]
  },
  {
   "cell_type": "markdown",
   "metadata": {
    "azdata_cell_guid": "5080d6de-2775-4055-97ae-f93fce97a426"
   },
   "source": [
    "Question 6: How many book titles contain the word Happy?"
   ]
  },
  {
   "cell_type": "code",
   "execution_count": null,
   "metadata": {
    "azdata_cell_guid": "f55f18b9-91b1-4761-ad8c-4758434d7827",
    "language": "sql",
    "tags": []
   },
   "outputs": [],
   "source": [
    "-- return number of books that contain the word Happy\n",
    "SELECT COUNT (title) AS ' number of books that contain Happy'\n",
    "FROM Books\n",
    "WHERE title LIKE 'Happy' and 'happy'\n"
   ]
  },
  {
   "cell_type": "markdown",
   "metadata": {
    "azdata_cell_guid": "d38270ef-da5a-42b4-802a-506acb8b9e4b"
   },
   "source": [
    "Question 7: List the books from the top 3 authors from question 1.  If there is more than one author just use the first one. Sort the titles <span style=\"background-color: rgba(127, 127, 127, 0.1); font-family: -apple-system, BlinkMacSystemFont, sans-serif;\">alphabetically by author and then by average_rating, best rated to lowest. Does order matter in sorting?</span>"
   ]
  },
  {
   "cell_type": "code",
   "execution_count": null,
   "metadata": {
    "azdata_cell_guid": "47466fac-5d8d-491d-bd3c-2f8496f55e6b",
    "language": "sql",
    "tags": []
   },
   "outputs": [],
   "source": [
    "-- return all books from the top 3 authors, sort by author and rating\n",
    "SELECT top 10 \n",
    "    book_id, \n",
    "    authors, \n",
    "    title, \n",
    "    average_rating\n",
    "FROM Books\n",
    "ORDER BY average_rating DESC, authors DESC"
   ]
  },
  {
   "cell_type": "markdown",
   "metadata": {
    "azdata_cell_guid": "db907c70-0bbd-4121-ac91-ae814f703243"
   },
   "source": [
    "Question 8: Take a close look at J.K. Rowling.  Is her top rated book on this list from question 1?  Why might this be? How could we account for this?\n",
    "\n",
    "> Click here to add your answer."
   ]
  },
  {
   "cell_type": "markdown",
   "metadata": {
    "azdata_cell_guid": "35ee4a48-8e84-4eb5-95ca-f5cdddc8d682"
   },
   "source": [
    "Try updating your above query to include all of J.K. Rowling's books.\n",
    "\n",
    "Are there any other issues?\n",
    "\n",
    "> Click here to add your answer."
   ]
  },
  {
   "cell_type": "code",
   "execution_count": null,
   "metadata": {
    "azdata_cell_guid": "ce489012-fce9-435c-b570-7734223a0678",
    "language": "sql",
    "tags": []
   },
   "outputs": [],
   "source": [
    "-- Try updating your above query to include all of J.K. Rowling's books\n"
   ]
  },
  {
   "cell_type": "markdown",
   "metadata": {
    "azdata_cell_guid": "75bf5054-4918-4e9e-8e03-24a38ffab9cc"
   },
   "source": [
    "Question 9: Write a query that returns the number of Authors whose first name is between rock and roll."
   ]
  },
  {
   "cell_type": "code",
   "execution_count": null,
   "metadata": {
    "azdata_cell_guid": "491b2492-95d4-4078-b319-386b0c5592ec",
    "language": "sql"
   },
   "outputs": [],
   "source": [
    "-- return number of authors whose first name is between rock and roll\n",
    "\n"
   ]
  },
  {
   "cell_type": "markdown",
   "metadata": {
    "azdata_cell_guid": "1ba1363a-4f02-4962-a95a-93b80c5926b1"
   },
   "source": [
    "## Part 2. Write your own question and write a query to answer it.\n",
    "\n",
    "Your Question:  Click here to add"
   ]
  },
  {
   "cell_type": "code",
   "execution_count": null,
   "metadata": {
    "azdata_cell_guid": "607f1a61-b306-42bf-a20c-60ec3a6ba86a",
    "language": "sql"
   },
   "outputs": [],
   "source": [
    "-- Add your querry here\n"
   ]
  },
  {
   "cell_type": "markdown",
   "metadata": {
    "azdata_cell_guid": "9386ad04-a016-44d4-8c5c-d25a102d47b4"
   },
   "source": [
    "Your Question: Click here to add"
   ]
  },
  {
   "cell_type": "code",
   "execution_count": null,
   "metadata": {
    "azdata_cell_guid": "15f249cf-aad7-468d-92e1-429b2a09f285",
    "language": "sql"
   },
   "outputs": [],
   "source": [
    "-- Add your querry here\n"
   ]
  },
  {
   "cell_type": "markdown",
   "metadata": {
    "azdata_cell_guid": "7160362b-7127-4123-bd1d-95a94ae38a07"
   },
   "source": [
    "**Some Question Examples:**\n",
    "\n",
    "Write a query that returns the longest title?\n",
    "\n",
    "Which Author has written the most books?  \n",
    "\n",
    "Top  ten books written the year I was born?"
   ]
  }
 ],
 "metadata": {
  "extensions": {
   "azuredatastudio": {
    "version": 1,
    "views": []
   }
  },
  "kernelspec": {
   "display_name": "Python 3 (ipykernel)",
   "language": "python",
   "name": "python3"
  },
  "language_info": {
   "codemirror_mode": {
    "name": "ipython",
    "version": 3
   },
   "file_extension": ".py",
   "mimetype": "text/x-python",
   "name": "python",
   "nbconvert_exporter": "python",
   "pygments_lexer": "ipython3",
   "version": "3.9.12"
  }
 },
 "nbformat": 4,
 "nbformat_minor": 4
}
